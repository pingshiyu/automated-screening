{
 "cells": [
  {
   "cell_type": "code",
   "execution_count": 1,
   "metadata": {},
   "outputs": [],
   "source": [
    "from rdkit import Chem\n",
    "from rdkit.Chem import AllChem\n",
    "from rdkit.Chem import Draw\n",
    "\n",
    "# chemistry libraries\n",
    "from openbabel import openbabel as ob\n",
    "from openbabel import pybel\n",
    "\n",
    "import numpy as np\n",
    "import pandas as pd\n",
    "import multiprocessing as mp\n",
    "\n",
    "# file reading / saving\n",
    "import pickle\n",
    "\n",
    "from molecule_functions import bernoulli_generator, sdf_to_smi\n",
    "from dg_functions import mols_dg_errors, chemspace_paths, chemspace_root, chemspace_files"
   ]
  },
  {
   "cell_type": "markdown",
   "metadata": {},
   "source": [
    "Defining locations of saved, enumerated chemical spaces. "
   ]
  },
  {
   "cell_type": "markdown",
   "metadata": {},
   "source": [
    "Note that RDKit does not deal with pentavalent nitrogens, and these will not be read in."
   ]
  },
  {
   "cell_type": "markdown",
   "metadata": {},
   "source": [
    "Converting some SDF files to SMILES format, which is more compact. \n",
    "\n",
    "Sampling the database:\n",
    "$CHNOPS, w \\leq 125$, originally $\\approx 33,000,000$ entries, at $\\frac{1}{100}, \\frac{1}{300}$ and $\\frac{1}{600}$ to get $\\approx 330,000, \\approx 113,000$ and $\\approx 56,000$\n",
    "\n",
    "and converting the PubChem molecules directly to SMILES."
   ]
  },
  {
   "cell_type": "code",
   "execution_count": 3,
   "metadata": {},
   "outputs": [
    {
     "name": "stdout",
     "output_type": "stream",
     "text": [
      "Converted 86106 molecules successfully and written to: ./molecules/pubchem_90k.smi\n",
      "Converted 93350 molecules successfully and written to: ./molecules/chembl_100k.smi\n"
     ]
    }
   ],
   "source": [
    "# PubChem molecules conversion\n",
    "sdf_to_smi(f'{chemspace_root}pubchem_90k.sdf', \n",
    "           f\"{chemspace_root}{chemspace_files['pubchem_90k']}\", sample=1.0)\n",
    "sdf_to_smi(f'{chemspace_root}chembl_100k.sdf', \n",
    "           f\"{chemspace_root}{chemspace_files['chembl_100k']}\", sample=1.0)"
   ]
  },
  {
   "cell_type": "code",
   "execution_count": 5,
   "metadata": {},
   "outputs": [
    {
     "name": "stdout",
     "output_type": "stream",
     "text": [
      "Converted 337956 molecules successfully and written to: chemspace_125_338k.smi\n",
      "Converted 113221 molecules successfully and written to: chemspace_125_113k.smi\n",
      "Converted 56356 molecules successfully and written to: chemspace_125_56k.smi\n"
     ]
    }
   ],
   "source": [
    "# converting the <= 125 chemical space: replacing the function to do in 1 pass since there's 33 million to go through\n",
    "samples_data = [ \n",
    "    {\n",
    "        'name': '125_338k',\n",
    "        'writer': pybel.Outputfile('smi', chemspace_files['125_338k'], overwrite=True),\n",
    "        'sampler': bernoulli_generator(1/100),\n",
    "        'size': 0\n",
    "    },\n",
    "    {\n",
    "        'name': '125_113k',\n",
    "        'writer': pybel.Outputfile('smi', chemspace_files['125_113k'], overwrite=True),\n",
    "        'sampler': bernoulli_generator(1/300),\n",
    "        'size': 0\n",
    "    },\n",
    "    {\n",
    "        'name': '125_56k',\n",
    "        'writer': pybel.Outputfile('smi', chemspace_files['125_56k'], overwrite=True),\n",
    "        'sampler': bernoulli_generator(1/600),\n",
    "        'size': 0\n",
    "    }\n",
    "]\n",
    "\n",
    "for i, molecule in enumerate(pybel.readfile('sdf', f'{chemspace_root}chemspace_125.sdf')):\n",
    "    print(f'Progress: {i}', end='\\r')\n",
    "    for data in samples_data:\n",
    "        if next(data['sampler']):\n",
    "            data['size'] += 1\n",
    "            data['writer'].write(molecule)\n",
    "    \n",
    "for data in samples_data:\n",
    "    print(f\"Converted {data['size']} molecules successfully and written to: {chemspace_files[data['name']]}\")"
   ]
  },
  {
   "cell_type": "code",
   "execution_count": 2,
   "metadata": {},
   "outputs": [
    {
     "name": "stdout",
     "output_type": "stream",
     "text": [
      "Converted 40 molecules successfully and written to: ./molecules/C5H6.smi\n"
     ]
    }
   ],
   "source": [
    "# c6h6 and c6h5 isomers\n",
    "#sdf_to_smi(f'{chemspace_root}C6H6.sdf', \n",
    "#           f\"{chemspace_root}{chemspace_files['c6h6']}\", sample=1.0)\n",
    "sdf_to_smi(f'{chemspace_root}C5H6.sdf', \n",
    "           f\"{chemspace_root}{chemspace_files['c5h6']}\", sample=1.0)"
   ]
  },
  {
   "cell_type": "code",
   "execution_count": null,
   "metadata": {},
   "outputs": [],
   "source": []
  }
 ],
 "metadata": {
  "kernelspec": {
   "display_name": "Python 3",
   "language": "python",
   "name": "python3"
  },
  "language_info": {
   "codemirror_mode": {
    "name": "ipython",
    "version": 3
   },
   "file_extension": ".py",
   "mimetype": "text/x-python",
   "name": "python",
   "nbconvert_exporter": "python",
   "pygments_lexer": "ipython3",
   "version": "3.7.3"
  }
 },
 "nbformat": 4,
 "nbformat_minor": 4
}
